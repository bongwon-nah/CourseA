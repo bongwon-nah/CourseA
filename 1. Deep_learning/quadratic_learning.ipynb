{
 "cells": [
  {
   "cell_type": "code",
   "execution_count": 1,
   "id": "b9ddb843-a38f-452c-b726-c04f49f0ca8c",
   "metadata": {},
   "outputs": [],
   "source": [
    "import torch\n",
    "import torch.nn as nn\n",
    "import torch.optim as optim\n",
    "import numpy as np\n",
    "import matplotlib.pyplot as plt\n",
    "\n",
    "# 데이터 생성 함수\n",
    "def generate_data(n_samples=1000):\n",
    "    x = np.random.uniform(-10, 10, n_samples)\n",
    "    x = np.sort(x)\n",
    "    # 실제 2차 함수: y = 2x² + 3x + 1\n",
    "    y = 2 * x**2 + 3 * x + 1\n",
    "    return torch.FloatTensor(x).view(-1, 1), torch.FloatTensor(y).view(-1, 1)"
   ]
  },
  {
   "cell_type": "code",
   "execution_count": 2,
   "id": "e57123cf-2cca-489b-8014-158d0640d1c5",
   "metadata": {},
   "outputs": [
    {
     "data": {
      "image/png": "[encoded data removed]",
      "text/plain": [
       "<Figure size 400x300 with 1 Axes>"
      ]
     },
     "metadata": {},
     "output_type": "display_data"
    }
   ],
   "source": [
    "# 데이터 생성\n",
    "x_train, y_train = generate_data()\n",
    "\n",
    "plt.figure(figsize=(4, 3))\n",
    "plt.plot(x_train.numpy(), y_train.numpy())\n",
    "plt.show()"
   ]
  },
  {
   "cell_type": "code",
   "execution_count": 3,
   "id": "057e0dd1-b4b6-4007-9217-6a1d13f8fc3a",
   "metadata": {},
   "outputs": [],
   "source": [
    "# 신경망 모델 정의\n",
    "class QuadraticNet(nn.Module):\n",
    "    def __init__(self):\n",
    "        super(QuadraticNet, self).__init__()\n",
    "        self.fc1 = nn.Linear(1, 64)\n",
    "        self.fc2 = nn.Linear(64, 32)\n",
    "        self.fc3 = nn.Linear(32, 1)\n",
    "        self.relu = nn.ReLU()\n",
    "        \n",
    "    def forward(self, x):\n",
    "        x = self.relu(self.fc1(x))\n",
    "        x = self.relu(self.fc2(x))\n",
    "        # x = self.fc1(x)\n",
    "        # x = self.fc2(x)\n",
    "        x = self.fc3(x)\n",
    "        return x"
   ]
  },
  {
   "cell_type": "markdown",
   "id": "4bb2db2f-2059-47fc-bce8-84c925c9f35a",
   "metadata": {},
   "source": [
    "### 메모리 체크"
   ]
  },
  {
   "cell_type": "code",
   "execution_count": 4,
   "id": "cf8663e4-0c79-4acb-89c0-e4d5bbfade36",
   "metadata": {},
   "outputs": [
    {
     "name": "stdout",
     "output_type": "stream",
     "text": [
      "초기 GPU 메모리 사용량: 0.0000 MB\n"
     ]
    }
   ],
   "source": [
    "# 모델 초기화\n",
    "initial_memory = torch.cuda.memory_allocated()\n",
    "print(f\"초기 GPU 메모리 사용량: {initial_memory / 1024**2:.4f} MB\")"
   ]
  },
  {
   "cell_type": "code",
   "execution_count": 5,
   "id": "9bc04d0d-e801-41d4-bc9b-313c67f10397",
   "metadata": {
    "scrolled": true
   },
   "outputs": [
    {
     "name": "stdout",
     "output_type": "stream",
     "text": [
      "모델 GPU 메모리 사용량: 0.0103 MB\n"
     ]
    }
   ],
   "source": [
    "# # 모델 초기화\n",
    "# initial_memory = torch.cuda.memory_allocated()\n",
    "# print(f\"초기 GPU 메모리 사용량: {initial_memory / 1024**2:.4f} MB\")\n",
    "model = QuadraticNet().cuda()\n",
    "memory_model = torch.cuda.memory_allocated()\n",
    "print(f\"모델 GPU 메모리 사용량: {(memory_model - initial_memory) / 1024**2:.4f} MB\")"
   ]
  },
  {
   "cell_type": "markdown",
   "id": "e30fbbf5-9558-4130-9bc9-1b4db444df90",
   "metadata": {},
   "source": [
    "#### sample param, grad"
   ]
  },
  {
   "cell_type": "code",
   "execution_count": 6,
   "id": "5901f389-d3c9-4355-8cdf-d7b474de808e",
   "metadata": {},
   "outputs": [],
   "source": [
    "sample_param = next(model.parameters())"
   ]
  },
  {
   "cell_type": "code",
   "execution_count": 7,
   "id": "86e30524-6f25-4914-94a2-5c2cf87485ff",
   "metadata": {
    "scrolled": true
   },
   "outputs": [
    {
     "name": "stdout",
     "output_type": "stream",
     "text": [
      "Dataset GPU 메모리 사용량: 0.0181 MB\n",
      "Forward GPU 메모리 사용량: 8.4951 MB\n",
      "Backward GPU 메모리 사용량: 16.2681 MB\n",
      "Epoch [100/10000], Loss: 339.4589\n",
      "Epoch [200/10000], Loss: 39.3212\n",
      "Epoch [300/10000], Loss: 3.6957\n",
      "Epoch [400/10000], Loss: 0.7993\n",
      "Epoch [500/10000], Loss: 0.2941\n",
      "Epoch [600/10000], Loss: 0.1470\n",
      "Epoch [700/10000], Loss: 0.3452\n",
      "Epoch [800/10000], Loss: 0.1550\n",
      "Epoch [900/10000], Loss: 0.0902\n",
      "Epoch [1000/10000], Loss: 0.1154\n",
      "Epoch [1100/10000], Loss: 0.1269\n",
      "Epoch [1200/10000], Loss: 0.1625\n",
      "Epoch [1300/10000], Loss: 0.0283\n",
      "Epoch [1400/10000], Loss: 0.0236\n",
      "Epoch [1500/10000], Loss: 0.0223\n",
      "Epoch [1600/10000], Loss: 0.7151\n",
      "Epoch [1700/10000], Loss: 0.0196\n",
      "Epoch [1800/10000], Loss: 0.0197\n",
      "Epoch [1900/10000], Loss: 0.0183\n",
      "Epoch [2000/10000], Loss: 0.0187\n",
      "Epoch [2100/10000], Loss: 0.0272\n",
      "Epoch [2200/10000], Loss: 0.0162\n",
      "Epoch [2300/10000], Loss: 0.0164\n",
      "Epoch [2400/10000], Loss: 0.0517\n",
      "Epoch [2500/10000], Loss: 0.1762\n",
      "Epoch [2600/10000], Loss: 0.0854\n",
      "Epoch [2700/10000], Loss: 0.0803\n",
      "Epoch [2800/10000], Loss: 0.2024\n",
      "Epoch [2900/10000], Loss: 0.2737\n",
      "Epoch [3000/10000], Loss: 0.0615\n",
      "Epoch [3100/10000], Loss: 0.0147\n",
      "Epoch [3200/10000], Loss: 0.0142\n",
      "Epoch [3300/10000], Loss: 0.1020\n",
      "Epoch [3400/10000], Loss: 0.1363\n",
      "Epoch [3500/10000], Loss: 0.1870\n",
      "Epoch [3600/10000], Loss: 0.0448\n",
      "Epoch [3700/10000], Loss: 0.2839\n",
      "Epoch [3800/10000], Loss: 0.1759\n",
      "Epoch [3900/10000], Loss: 0.1120\n",
      "Epoch [4000/10000], Loss: 0.2977\n",
      "Epoch [4100/10000], Loss: 0.0652\n",
      "Epoch [4200/10000], Loss: 0.0959\n",
      "Epoch [4300/10000], Loss: 0.0347\n",
      "Epoch [4400/10000], Loss: 0.1029\n",
      "Epoch [4500/10000], Loss: 0.1504\n",
      "Epoch [4600/10000], Loss: 0.1130\n",
      "Epoch [4700/10000], Loss: 0.0396\n",
      "Epoch [4800/10000], Loss: 0.0830\n",
      "Epoch [4900/10000], Loss: 0.0158\n",
      "Epoch [5000/10000], Loss: 0.0209\n",
      "Epoch [5100/10000], Loss: 0.7851\n",
      "Epoch [5200/10000], Loss: 0.2055\n",
      "Epoch [5300/10000], Loss: 0.0195\n",
      "Epoch [5400/10000], Loss: 0.0756\n",
      "Epoch [5500/10000], Loss: 0.1571\n",
      "Epoch [5600/10000], Loss: 0.1305\n",
      "Epoch [5700/10000], Loss: 0.4028\n",
      "Epoch [5800/10000], Loss: 0.1257\n",
      "Epoch [5900/10000], Loss: 0.0225\n",
      "Epoch [6000/10000], Loss: 0.1154\n",
      "Epoch [6100/10000], Loss: 0.0299\n",
      "Epoch [6200/10000], Loss: 0.0965\n",
      "Epoch [6300/10000], Loss: 0.1559\n",
      "Epoch [6400/10000], Loss: 0.1335\n",
      "Epoch [6500/10000], Loss: 0.1016\n",
      "Epoch [6600/10000], Loss: 0.1810\n",
      "Epoch [6700/10000], Loss: 0.0110\n",
      "Epoch [6800/10000], Loss: 0.0160\n",
      "Epoch [6900/10000], Loss: 0.0261\n",
      "Epoch [7000/10000], Loss: 0.0249\n",
      "Epoch [7100/10000], Loss: 0.0124\n",
      "Epoch [7200/10000], Loss: 0.0429\n",
      "Epoch [7300/10000], Loss: 0.0739\n",
      "Epoch [7400/10000], Loss: 0.2007\n",
      "Epoch [7500/10000], Loss: 0.1160\n",
      "Epoch [7600/10000], Loss: 0.1532\n",
      "Epoch [7700/10000], Loss: 0.0191\n",
      "Epoch [7800/10000], Loss: 0.0366\n",
      "Epoch [7900/10000], Loss: 0.0532\n",
      "Epoch [8000/10000], Loss: 0.0111\n",
      "Epoch [8100/10000], Loss: 0.0183\n",
      "Epoch [8200/10000], Loss: 0.0180\n",
      "Epoch [8300/10000], Loss: 1.2649\n",
      "Epoch [8400/10000], Loss: 0.1511\n",
      "Epoch [8500/10000], Loss: 0.1774\n",
      "Epoch [8600/10000], Loss: 0.0346\n",
      "Epoch [8700/10000], Loss: 0.1169\n",
      "Epoch [8800/10000], Loss: 0.0234\n",
      "Epoch [8900/10000], Loss: 0.1358\n",
      "Epoch [9000/10000], Loss: 0.0350\n",
      "Epoch [9100/10000], Loss: 1.6662\n",
      "Epoch [9200/10000], Loss: 0.2207\n",
      "Epoch [9300/10000], Loss: 0.7325\n",
      "Epoch [9400/10000], Loss: 0.0352\n",
      "Epoch [9500/10000], Loss: 0.0163\n",
      "Epoch [9600/10000], Loss: 0.0761\n",
      "Epoch [9700/10000], Loss: 0.0238\n",
      "Epoch [9800/10000], Loss: 0.1267\n",
      "Epoch [9900/10000], Loss: 0.0600\n",
      "Epoch [10000/10000], Loss: 0.0603\n"
     ]
    }
   ],
   "source": [
    "epochs=10000\n",
    "lr=0.01\n",
    "criterion = nn.MSELoss()\n",
    "optimizer = optim.Adam(model.parameters(), lr=lr)\n",
    "\n",
    "x_train = x_train.cuda()\n",
    "y_train = y_train.cuda()\n",
    "losses = []\n",
    "\n",
    "memory_data = torch.cuda.memory_allocated()\n",
    "print(f\"Dataset GPU 메모리 사용량: {(memory_data - initial_memory) / 1024**2:.4f} MB\")\n",
    "\n",
    "for epoch in range(epochs):\n",
    "    optimizer.zero_grad()\n",
    "    memory_start = torch.cuda.memory_allocated()\n",
    "    outputs = model(x_train)\n",
    "    if epoch==0:#<=1\n",
    "        memory = torch.cuda.memory_allocated()\n",
    "        print(f\"Forward GPU 메모리 사용량: {(memory - memory_start) / 1024**2:.4f} MB\")\n",
    "    loss = criterion(outputs, y_train)\n",
    "    loss.backward()\n",
    "    if epoch==0:#<=1\n",
    "        memory = torch.cuda.memory_allocated()\n",
    "        print(f\"Backward GPU 메모리 사용량: {(memory - memory_start) / 1024**2:.4f} MB\")\n",
    "    optimizer.step()\n",
    "    \n",
    "    if (epoch + 1) % 100 == 0:\n",
    "        print(f'Epoch [{epoch+1}/{epochs}], Loss: {loss.item():.4f}')\n",
    "    losses.append(loss.item())"
   ]
  },
  {
   "cell_type": "code",
   "execution_count": 8,
   "id": "a728b1c9-bcab-4233-b48b-ed641ea72acc",
   "metadata": {},
   "outputs": [
    {
     "data": {
      "image/png": "[encoded data removed]",
      "text/plain": [
       "<Figure size 640x480 with 1 Axes>"
      ]
     },
     "metadata": {},
     "output_type": "display_data"
    },
    {
     "name": "stdout",
     "output_type": "stream",
     "text": [
      "\n",
      "테스트 예측 결과:\n",
      "x = -3.0, 예측값 = 10.08, 실제값 = 10.00\n",
      "x = -2.0, 예측값 = 3.08, 실제값 = 3.00\n",
      "x = -1.0, 예측값 = -0.03, 실제값 = 0.00\n",
      "x = 0.0, 예측값 = 0.97, 실제값 = 1.00\n",
      "x = 1.0, 예측값 = 6.08, 실제값 = 6.00\n",
      "x = 2.0, 예측값 = 15.14, 실제값 = 15.00\n",
      "x = 3.0, 예측값 = 28.15, 실제값 = 28.00\n"
     ]
    }
   ],
   "source": [
    "# 학습된 모델의 예측 예시\n",
    "test_x = torch.FloatTensor([-3, -2, -1, 0, 1, 2, 3]).view(-1, 1).cuda()\n",
    "exact_y = 2 * test_x**2 + 3 * test_x + 1\n",
    "with torch.no_grad():\n",
    "    test_y = model(test_x)\n",
    "    plt.plot(test_x.cpu(), test_y.cpu(), label='pred')\n",
    "    plt.plot(test_x.cpu(), exact_y.cpu(), label='exact')\n",
    "    plt.legend()\n",
    "    plt.show()\n",
    "    print(\"\\n테스트 예측 결과:\")\n",
    "    for x, y, y_answer in zip(test_x, test_y, exact_y):\n",
    "        print(f\"x = {x.item():.1f}, 예측값 = {y.item():.2f}, 실제값 = {y_answer.item():.2f}\")"
   ]
  }
 ],
 "metadata": {
  "kernelspec": {
   "display_name": "Python 3 (ipykernel)",
   "language": "python",
   "name": "python3"
  },
  "language_info": {
   "codemirror_mode": {
    "name": "ipython",
    "version": 3
   },
   "file_extension": ".py",
   "mimetype": "text/x-python",
   "name": "python",
   "nbconvert_exporter": "python",
   "pygments_lexer": "ipython3",
   "version": "3.10.12"
  }
 },
 "nbformat": 4,
 "nbformat_minor": 5
}
