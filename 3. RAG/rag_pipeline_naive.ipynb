{
 "cells": [
  {
   "cell_type": "code",
   "execution_count": 1,
   "id": "30c2b788-0748-4c89-93cb-39ac504a6297",
   "metadata": {},
   "outputs": [
    {
     "name": "stderr",
     "output_type": "stream",
     "text": [
      "/opt/conda/lib/python3.11/site-packages/tqdm/auto.py:21: TqdmWarning: IProgress not found. Please update jupyter and ipywidgets. See https://ipywidgets.readthedocs.io/en/stable/user_install.html\n",
      "  from .autonotebook import tqdm as notebook_tqdm\n"
     ]
    }
   ],
   "source": [
    "import torch\n",
    "from transformers import AutoTokenizer, AutoModelForCausalLM\n",
    "from sentence_transformers import SentenceTransformer\n",
    "import numpy as np\n",
    "from typing import List, Dict\n",
    "\n",
    "class SearchAndGenerate:\n",
    "    def __init__(self):\n",
    "        # BGE-M3 모델 로드\n",
    "        self.embedding = SentenceTransformer('../bge-m3')\n",
    "        \n",
    "        # Qwen2.5-1.5B 모델 로드\n",
    "        self.tokenizer = AutoTokenizer.from_pretrained(\"../Qwen2.5-1.5B-Instruct/\")\n",
    "        self.model = AutoModelForCausalLM.from_pretrained(\n",
    "            \"../Qwen2.5-1.5B-Instruct/\",\n",
    "            torch_dtype=torch.float16,\n",
    "            device_map=\"auto\"\n",
    "        )\n",
    "        \n",
    "    def encode_documents(self, documents: List[str]) -> np.ndarray:\n",
    "        \"\"\"문서들을 임베딩으로 변환\"\"\"\n",
    "        return self.embedding.encode(documents, normalize_embeddings=True)\n",
    "    \n",
    "    def search(self, query: str, documents: List[str], top_k: int = 2) -> List[Dict]:\n",
    "        \"\"\"쿼리에 가장 관련성이 높은 문서들을 검색\"\"\"\n",
    "        # 쿼리 임베딩 생성\n",
    "        query_embedding = self.embedding.encode(query, normalize_embeddings=True)\n",
    "        \n",
    "        # 문서 임베딩 생성\n",
    "        doc_embeddings = self.encode_documents(documents)\n",
    "        \n",
    "        # 유사도 계산\n",
    "        similarities = np.dot(doc_embeddings, query_embedding)\n",
    "        \n",
    "        # 상위 k개 문서 선택\n",
    "        top_indices = np.argsort(similarities)[-top_k:][::-1]\n",
    "        \n",
    "        results = []\n",
    "        for idx in top_indices:\n",
    "            results.append({\n",
    "                \"document\": documents[idx],\n",
    "                \"score\": float(similarities[idx])\n",
    "            })\n",
    "            \n",
    "        return results\n",
    "    \n",
    "    def generate_answer(self, query: str, context: str) -> str:\n",
    "        \"\"\"주어진 컨텍스트를 바탕으로 답변 생성\"\"\"\n",
    "        prompt = f\"\"\"다음 질문에 대해 주어진 컨텍스트를 바탕으로 답변해주세요.\n",
    "\n",
    "질문: {query}\n",
    "\n",
    "컨텍스트: {context}\n",
    "\n",
    "답변:\"\"\"\n",
    "        \n",
    "        inputs = self.tokenizer(prompt, return_tensors=\"pt\").to(self.model.device)\n",
    "        \n",
    "        with torch.no_grad():\n",
    "            outputs = self.model.generate(\n",
    "                **inputs,\n",
    "                max_new_tokens=512,\n",
    "                temperature=0.7,\n",
    "                top_p=0.9,\n",
    "                do_sample=True\n",
    "            )\n",
    "            \n",
    "        answer = self.tokenizer.decode(outputs[0], skip_special_tokens=True)\n",
    "        # 프롬프트 부분 제거\n",
    "        # answer = answer[len(prompt):].strip()\n",
    "        \n",
    "        return answer\n",
    "    \n",
    "    def search_and_generate(self, query: str, documents: List[str], top_k: int = 3) -> str:\n",
    "        \"\"\"검색과 답변 생성을 한 번에 수행\"\"\"\n",
    "        # 관련 문서 검색\n",
    "        search_results = self.search(query, documents, top_k)\n",
    "        \n",
    "        # 검색된 문서들을 컨텍스트로 결합\n",
    "        context = \"\\n\".join([result[\"document\"] for result in search_results])\n",
    "        \n",
    "        # 답변 생성\n",
    "        answer = self.generate_answer(query, context)\n",
    "        \n",
    "        return answer"
   ]
  },
  {
   "cell_type": "code",
   "execution_count": 4,
   "id": "6a1266be-c4d1-4ae0-8533-0e4ea773266b",
   "metadata": {},
   "outputs": [
    {
     "data": {
      "text/plain": [
       "[{'document': '머신러닝은 인공지능의 한 분야로, 데이터로부터 학습하여 예측이나 결정을 수행하는 알고리즘을 개발하는 기술입니다.',\n",
       "  'score': 0.6861977577209473},\n",
       " {'document': '인공지능은 인간의 학습능력, 추론능력, 지각능력, 자연언어의 이해능력 등을 컴퓨터 프로그램으로 구현한 기술입니다.',\n",
       "  'score': 0.5965269804000854}]"
      ]
     },
     "execution_count": 4,
     "metadata": {},
     "output_type": "execute_result"
    }
   ],
   "source": [
    "system.search(query, documents, top_k=2)"
   ]
  },
  {
   "cell_type": "code",
   "execution_count": 5,
   "id": "88d75192-7311-422d-9da6-b10f5968fd29",
   "metadata": {
    "scrolled": true
   },
   "outputs": [
    {
     "name": "stdout",
     "output_type": "stream",
     "text": [
      "답변: 다음 질문에 대해 주어진 컨텍스트를 바탕으로 답변해주세요.\n",
      "\n",
      "질문: 인공지능과 머신러닝의 차이점은 무엇인가요?\n",
      "\n",
      "컨텍스트: 머신러닝은 인공지능의 한 분야로, 데이터로부터 학습하여 예측이나 결정을 수행하는 알고리즘을 개발하는 기술입니다.\n",
      "인공지능은 인간의 학습능력, 추론능력, 지각능력, 자연언어의 이해능력 등을 컴퓨터 프로그램으로 구현한 기술입니다.\n",
      "딥러닝은 머신러닝의 한 종류로, 인공신경망을 사용하여 복잡한 패턴을 학습하는 기술입니다.\n",
      "\n",
      "답변: 인공지능과 머신러닝의 가장 큰 차이는 그 두 가지 모두가 데이터에서 학습하고 예측하거나 결정을做出하는 능력을 가지고 있지만, 이를 어떻게 사용할 수 있는 방식이 다릅니다. 인공지능은 특정 작업 또는 문제를 해결하기 위해 직접적으로 사용되는 알고리즘이나 모델을 개발하려는 시도를 하는 것이 목표입니다. 그러나 머신러닝은 이 과정을 자동화하며, 대체로 데이터를 수집하고 학습시킨 후, 이와 관련된 결과를 예측하거나 결정하는 데 사용됩니다. 또한, 인공지능은 모든 분야에서 사용될 수 있으며, 특히 의료, 금융, 교육 등에서는 많은 활용 사례가 있습니다. 그러나 머신러닝은 인공지능의 일부분이며, 더 정확하게는 데이터와 알고리즘에 대한 이해를 바탕으로 일련의 계산을 수행하는 것입니다. 마지막으로, 인공지능은 인간의 감성적 의사결정이나 신념에 기반한 행동을 포함하지만, 머신러닝은 이러한 요소를 제외하고 일관되고 효율적인 의사결정을 내리는 것을 가능하게 합니다. 따라서 인공지능은 머신러닝과는 다르게, 인간의 감성을 배제하고 대체로 데이터에 기반한 판단을 내리는 능력을 가집니다. \n",
      "\n",
      "따라서 인공지능과 머신러닝의 가장 큰 차이점은, 인공지능은 인간의 감성과 생각을 반영하면서 일관되게 의사결정을 내리는 능력을 갖추고 있지만, 머신러닝은 이보다 더 자동화된 방법을 통해 데이터를 학습하고 예측하는 능력이 있습니다. 따라서 인공지능은 인간의 지혜와 경험을 최대한 활용하여 다양한 상황에서 효과적인 의사결정을 내리는 역할을 하지만, 머신러닝은 데이터의 특징을 파악하고 예측하거나 결정하는 기술로서 더욱 전문화된 형태로 존재합니다. 따라서 머신러닝은 인공지능의 한 부분이며, 인공지능 전체의 일부 중 하나입니다. \n",
      "\n",
      "따라서 머신러닝은 인공지능의 한\n"
     ]
    }
   ],
   "source": [
    "system = SearchAndGenerate()\n",
    "\n",
    "# 샘플 문서\n",
    "documents = [\n",
    "    \"인공지능은 인간의 학습능력, 추론능력, 지각능력, 자연언어의 이해능력 등을 컴퓨터 프로그램으로 구현한 기술입니다.\",\n",
    "    \"머신러닝은 인공지능의 한 분야로, 데이터로부터 학습하여 예측이나 결정을 수행하는 알고리즘을 개발하는 기술입니다.\", #-> 스코어 하락\n",
    "    \"딥러닝은 머신러닝의 한 종류로, 인공신경망을 사용하여 복잡한 패턴을 학습하는 기술입니다.\",\n",
    "    \"인공지능은 ~~~한 것이고, 머신러닝은 ~~~한 것입니다.\", #-> 스코어 상승\n",
    "]\n",
    "\n",
    "# 샘플 쿼리\n",
    "query = \"인공지능과 머신러닝의 차이점은 무엇인가요?\"\n",
    "\n",
    "# 검색 및 답변 생성\n",
    "answer = system.search_and_generate(query, documents)\n",
    "# print(f\"질문: {query}\")\n",
    "print(f\"{answer}\") "
   ]
  },
  {
   "cell_type": "code",
   "execution_count": null,
   "id": "dfc9a5bc-fa8a-420d-888f-40aa3f411d0b",
   "metadata": {},
   "outputs": [],
   "source": [
    "f\"\"\"다음 질문에 대해 주어진 컨텍스트를 바탕으로 답변해주세요.\n",
    "\n",
    "질문: {query}\n",
    "\n",
    "컨텍스트: {context}\n",
    "\n",
    "답변:\"\"\""
   ]
  },
  {
   "cell_type": "code",
   "execution_count": 6,
   "id": "705eb4b3-6b2d-4738-902b-a85664c3331b",
   "metadata": {},
   "outputs": [
    {
     "name": "stdout",
     "output_type": "stream",
     "text": [
      "다음 질문에 대해 주어진 컨텍스트를 바탕으로 답변해주세요.\n",
      "\n",
      "질문: 인공지능과 머신러닝의 차이점은 무엇인가요?\n",
      "\n",
      "컨텍스트: 머신러닝은 인공지능의 한 분야로, 데이터로부터 학습하여 예측이나 결정을 수행하는 알고리즘을 개발하는 기술입니다.\n",
      "인공지능은 인간의 학습능력, 추론능력, 지각능력, 자연언어의 이해능력 등을 컴퓨터 프로그램으로 구현한 기술입니다.\n",
      "딥러닝은 머신러닝의 한 종류로, 인공신경망을 사용하여 복잡한 패턴을 학습하는 기술입니다.\n",
      "\n",
      "답변: 인공지능과 머신러닝의 가장 큰 차이는 그 두 가지 모두가 데이터에서 학습하고 예측하거나 결정을做出하는 능력을 가지고 있지만, 이를 어떻게 사용할 수 있는 방식이 다릅니다. 인공지능은 특정 작업 또는 문제를 해결하기 위해 직접적으로 사용되는 알고리즘이나 모델을 개발하려는 시도를 하는 것이 목표입니다. 그러나 머신러닝은 이 과정을 자동화하며, 대체로 데이터를 수집하고 학습시킨 후, 이와 관련된 결과를 예측하거나 결정하는 데 사용됩니다. 또한, 인공지능은 모든 분야에서 사용될 수 있으며, 특히 의료, 금융, 교육 등에서는 많은 활용 사례가 있습니다. 그러나 머신러닝은 인공지능의 일부분이며, 더 정확하게는 데이터와 알고리즘에 대한 이해를 바탕으로 일련의 계산을 수행하는 것입니다. 마지막으로, 인공지능은 인간의 감성적 의사결정이나 신념에 기반한 행동을 포함하지만, 머신러닝은 이러한 요소를 제외하고 일관되고 효율적인 의사결정을 내리는 것을 가능하게 합니다. 따라서 인공지능은 머신러닝과는 다르게, 인간의 감성을 배제하고 대체로 데이터에 기반한 판단을 내리는 능력을 가집니다. \n",
      "\n",
      "따라서 인공지능과 머신러닝의 가장 큰 차이점은, 인공지능은 인간의 감성과 생각을 반영하면서 일관되게 의사결정을 내리는 능력을 갖추고 있지만, 머신러닝은 이보다 더 자동화된 방법을 통해 데이터를 학습하고 예측하는 능력이 있습니다. 따라서 인공지능은 인간의 지혜와 경험을 최대한 활용하여 다양한 상황에서 효과적인 의사결정을 내리는 역할을 하지만, 머신러닝은 데이터의 특징을 파악하고 예측하거나 결정하는 기술로서 더욱 전문화된 형태로 존재합니다. 따라서 머신러닝은 인공지능의 한 부분이며, 인공지능 전체의 일부 중 하나입니다. \n",
      "\n",
      "따라서 머신러닝은 인공지능의 한\n"
     ]
    }
   ],
   "source": [
    "print(f\"{answer}\") "
   ]
  },
  {
   "cell_type": "code",
   "execution_count": null,
   "id": "dbddf297-fcf4-44dc-9e04-2529da378501",
   "metadata": {},
   "outputs": [],
   "source": []
  }
 ],
 "metadata": {
  "kernelspec": {
   "display_name": "Python 3 (ipykernel)",
   "language": "python",
   "name": "python3"
  },
  "language_info": {
   "codemirror_mode": {
    "name": "ipython",
    "version": 3
   },
   "file_extension": ".py",
   "mimetype": "text/x-python",
   "name": "python",
   "nbconvert_exporter": "python",
   "pygments_lexer": "ipython3",
   "version": "3.11.10"
  }
 },
 "nbformat": 4,
 "nbformat_minor": 5
}
