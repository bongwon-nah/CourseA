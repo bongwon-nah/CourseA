{
 "cells": [
  {
   "cell_type": "code",
   "execution_count": 1,
   "id": "b9ddb843-a38f-452c-b726-c04f49f0ca8c",
   "metadata": {},
   "outputs": [],
   "source": [
    "import torch\n",
    "import torch.nn as nn\n",
    "import torch.optim as optim\n",
    "import numpy as np\n",
    "import matplotlib.pyplot as plt\n",
    "\n",
    "# 데이터 생성 함수\n",
    "def generate_data(n_samples=1000):\n",
    "    x = np.random.uniform(-10, 10, n_samples)\n",
    "    x = np.sort(x)\n",
    "    # 실제 2차 함수: y = 2x² + 3x + 1\n",
    "    y = 2 * x**2 + 3 * x + 1\n",
    "    return torch.FloatTensor(x).view(-1, 1), torch.FloatTensor(y).view(-1, 1)"
   ]
  },
  {
   "cell_type": "code",
   "execution_count": 2,
   "id": "e57123cf-2cca-489b-8014-158d0640d1c5",
   "metadata": {},
   "outputs": [
    {
     "data": {
      "image/png": "[encoded data removed]",
      "text/plain": [
       "<Figure size 400x300 with 1 Axes>"
      ]
     },
     "metadata": {},
     "output_type": "display_data"
    }
   ],
   "source": [
    "# 데이터 생성\n",
    "x_train, y_train = generate_data()\n",
    "\n",
    "plt.figure(figsize=(4, 3))\n",
    "plt.plot(x_train.numpy(), y_train.numpy())\n",
    "plt.show()"
   ]
  },
  {
   "cell_type": "code",
   "execution_count": 3,
   "id": "057e0dd1-b4b6-4007-9217-6a1d13f8fc3a",
   "metadata": {},
   "outputs": [],
   "source": [
    "# 신경망 모델 정의\n",
    "class QuadraticNet(nn.Module):\n",
    "    def __init__(self):\n",
    "        super(QuadraticNet, self).__init__()\n",
    "        self.fc1 = nn.Linear(1, 64).cuda(0)\n",
    "        self.fc2 = nn.Linear(64, 32).cuda(0)\n",
    "        self.fc3 = nn.Linear(32, 1).cuda(1)\n",
    "        self.relu = nn.ReLU()\n",
    "        \n",
    "    def forward(self, x):\n",
    "        x = self.relu(self.fc1(x))\n",
    "        x = self.relu(self.fc2(x))\n",
    "        x = x.to(1)\n",
    "        # x = self.fc1(x)\n",
    "        # x = self.fc2(x)\n",
    "        x = self.fc3(x)\n",
    "        return x"
   ]
  },
  {
   "cell_type": "markdown",
   "id": "4bb2db2f-2059-47fc-bce8-84c925c9f35a",
   "metadata": {},
   "source": [
    "### 메모리 체크"
   ]
  },
  {
   "cell_type": "code",
   "execution_count": 4,
   "id": "cbc6d36f-4e33-4009-bff2-d29c03e7660d",
   "metadata": {},
   "outputs": [],
   "source": [
    "def count_gpu_memories(usage=\"\"):\n",
    "    num_gpus = torch.cuda.device_count()\n",
    "    gpu_memory_info = []\n",
    "    \n",
    "    for i in range(num_gpus):\n",
    "        allocated = torch.cuda.memory_allocated(i)\n",
    "        gpu_memory_info.append(\n",
    "            (i, allocated / 1024**2)  # MB 단위로 변환\n",
    "        )\n",
    "    \n",
    "    print(f\"{usage} GPU 메모리 사용량 (단위: MB):\")\n",
    "    for gpu_id, allocated_mb in gpu_memory_info:\n",
    "        print(f\"GPU {gpu_id} - Allocated: {allocated_mb:.4f} MB\")"
   ]
  },
  {
   "cell_type": "code",
   "execution_count": 5,
   "id": "cf8663e4-0c79-4acb-89c0-e4d5bbfade36",
   "metadata": {},
   "outputs": [
    {
     "name": "stdout",
     "output_type": "stream",
     "text": [
      "초기 GPU 메모리 사용량 (단위: MB):\n",
      "GPU 0 - Allocated: 0.0000 MB\n",
      "GPU 1 - Allocated: 0.0000 MB\n"
     ]
    }
   ],
   "source": [
    "# 모델 초기화\n",
    "count_gpu_memories(\"초기\")"
   ]
  },
  {
   "cell_type": "code",
   "execution_count": 6,
   "id": "9bc04d0d-e801-41d4-bc9b-313c67f10397",
   "metadata": {},
   "outputs": [
    {
     "name": "stdout",
     "output_type": "stream",
     "text": [
      "Model GPU 메모리 사용량 (단위: MB):\n",
      "GPU 0 - Allocated: 0.0093 MB\n",
      "GPU 1 - Allocated: 0.0010 MB\n"
     ]
    }
   ],
   "source": [
    "# # 모델 초기화\n",
    "# initial_memory = torch.cuda.memory_allocated()\n",
    "# print(f\"초기 GPU 메모리 사용량: {initial_memory / 1024**2:.4f} MB\")\n",
    "model = QuadraticNet()\n",
    "count_gpu_memories(\"Model\")"
   ]
  },
  {
   "cell_type": "markdown",
   "id": "e30fbbf5-9558-4130-9bc9-1b4db444df90",
   "metadata": {},
   "source": [
    "#### sample param, grad"
   ]
  },
  {
   "cell_type": "code",
   "execution_count": 7,
   "id": "5901f389-d3c9-4355-8cdf-d7b474de808e",
   "metadata": {},
   "outputs": [],
   "source": [
    "sample_param = next(model.parameters())"
   ]
  },
  {
   "cell_type": "code",
   "execution_count": 8,
   "id": "86e30524-6f25-4914-94a2-5c2cf87485ff",
   "metadata": {
    "scrolled": true
   },
   "outputs": [
    {
     "name": "stdout",
     "output_type": "stream",
     "text": [
      "Forward GPU 메모리 사용량 (단위: MB):\n",
      "GPU 0 - Allocated: 8.5044 MB\n",
      "GPU 1 - Allocated: 8.2559 MB\n",
      "Backward GPU 메모리 사용량 (단위: MB):\n",
      "GPU 0 - Allocated: 16.2725 MB\n",
      "GPU 1 - Allocated: 16.2637 MB\n",
      "Epoch [100/10000], Loss: 357.2542\n",
      "Epoch [200/10000], Loss: 59.2687\n",
      "Epoch [300/10000], Loss: 12.7825\n",
      "Epoch [400/10000], Loss: 3.3439\n",
      "Epoch [500/10000], Loss: 1.1136\n",
      "Epoch [600/10000], Loss: 0.4794\n",
      "Epoch [700/10000], Loss: 0.2569\n",
      "Epoch [800/10000], Loss: 0.1581\n",
      "Epoch [900/10000], Loss: 0.1095\n",
      "Epoch [1000/10000], Loss: 0.0836\n",
      "Epoch [1100/10000], Loss: 0.0718\n",
      "Epoch [1200/10000], Loss: 0.0555\n",
      "Epoch [1300/10000], Loss: 0.0481\n",
      "Epoch [1400/10000], Loss: 0.0449\n",
      "Epoch [1500/10000], Loss: 0.1175\n",
      "Epoch [1600/10000], Loss: 0.0380\n",
      "Epoch [1700/10000], Loss: 0.0361\n",
      "Epoch [1800/10000], Loss: 0.0440\n",
      "Epoch [1900/10000], Loss: 0.0705\n",
      "Epoch [2000/10000], Loss: 0.1742\n",
      "Epoch [2100/10000], Loss: 0.0371\n",
      "Epoch [2200/10000], Loss: 0.0639\n",
      "Epoch [2300/10000], Loss: 0.0573\n",
      "Epoch [2400/10000], Loss: 0.0867\n",
      "Epoch [2500/10000], Loss: 0.1124\n",
      "Epoch [2600/10000], Loss: 0.0282\n",
      "Epoch [2700/10000], Loss: 0.0391\n",
      "Epoch [2800/10000], Loss: 0.0391\n",
      "Epoch [2900/10000], Loss: 0.0653\n",
      "Epoch [3000/10000], Loss: 0.0677\n",
      "Epoch [3100/10000], Loss: 0.0691\n",
      "Epoch [3200/10000], Loss: 0.0692\n",
      "Epoch [3300/10000], Loss: 0.0809\n",
      "Epoch [3400/10000], Loss: 0.1104\n",
      "Epoch [3500/10000], Loss: 0.0417\n",
      "Epoch [3600/10000], Loss: 0.0966\n",
      "Epoch [3700/10000], Loss: 0.0781\n",
      "Epoch [3800/10000], Loss: 0.0790\n",
      "Epoch [3900/10000], Loss: 0.0907\n",
      "Epoch [4000/10000], Loss: 0.2195\n",
      "Epoch [4100/10000], Loss: 0.1143\n",
      "Epoch [4200/10000], Loss: 0.2053\n",
      "Epoch [4300/10000], Loss: 0.1999\n",
      "Epoch [4400/10000], Loss: 0.0415\n",
      "Epoch [4500/10000], Loss: 0.0745\n",
      "Epoch [4600/10000], Loss: 0.0437\n",
      "Epoch [4700/10000], Loss: 0.0374\n",
      "Epoch [4800/10000], Loss: 0.0556\n",
      "Epoch [4900/10000], Loss: 0.0715\n",
      "Epoch [5000/10000], Loss: 0.0865\n",
      "Epoch [5100/10000], Loss: 0.0491\n",
      "Epoch [5200/10000], Loss: 0.1045\n",
      "Epoch [5300/10000], Loss: 0.0205\n",
      "Epoch [5400/10000], Loss: 0.1416\n",
      "Epoch [5500/10000], Loss: 0.0250\n",
      "Epoch [5600/10000], Loss: 1.0036\n",
      "Epoch [5700/10000], Loss: 0.0821\n",
      "Epoch [5800/10000], Loss: 0.0815\n",
      "Epoch [5900/10000], Loss: 0.0815\n",
      "Epoch [6000/10000], Loss: 0.1046\n",
      "Epoch [6100/10000], Loss: 0.0296\n",
      "Epoch [6200/10000], Loss: 0.0789\n",
      "Epoch [6300/10000], Loss: 0.1370\n",
      "Epoch [6400/10000], Loss: 0.0656\n",
      "Epoch [6500/10000], Loss: 0.0937\n",
      "Epoch [6600/10000], Loss: 0.1398\n",
      "Epoch [6700/10000], Loss: 0.2415\n",
      "Epoch [6800/10000], Loss: 0.0291\n",
      "Epoch [6900/10000], Loss: 0.0284\n",
      "Epoch [7000/10000], Loss: 0.1219\n",
      "Epoch [7100/10000], Loss: 0.1727\n",
      "Epoch [7200/10000], Loss: 0.0182\n",
      "Epoch [7300/10000], Loss: 0.0215\n",
      "Epoch [7400/10000], Loss: 0.2796\n",
      "Epoch [7500/10000], Loss: 0.0370\n",
      "Epoch [7600/10000], Loss: 0.2176\n",
      "Epoch [7700/10000], Loss: 0.0840\n"
     ]
    },
    {
     "ename": "KeyboardInterrupt",
     "evalue": "",
     "output_type": "error",
     "traceback": [
      "\u001b[0;31m---------------------------------------------------------------------------\u001b[0m",
      "\u001b[0;31mKeyboardInterrupt\u001b[0m                         Traceback (most recent call last)",
      "Cell \u001b[0;32mIn[8], line 20\u001b[0m\n\u001b[1;32m     18\u001b[0m \u001b[38;5;28;01mif\u001b[39;00m epoch\u001b[38;5;241m==\u001b[39m\u001b[38;5;241m0\u001b[39m:\u001b[38;5;66;03m#<=1\u001b[39;00m\n\u001b[1;32m     19\u001b[0m     count_gpu_memories(\u001b[38;5;124m\"\u001b[39m\u001b[38;5;124mBackward\u001b[39m\u001b[38;5;124m\"\u001b[39m)\n\u001b[0;32m---> 20\u001b[0m \u001b[43moptimizer\u001b[49m\u001b[38;5;241;43m.\u001b[39;49m\u001b[43mstep\u001b[49m\u001b[43m(\u001b[49m\u001b[43m)\u001b[49m\n\u001b[1;32m     22\u001b[0m \u001b[38;5;28;01mif\u001b[39;00m (epoch \u001b[38;5;241m+\u001b[39m \u001b[38;5;241m1\u001b[39m) \u001b[38;5;241m%\u001b[39m \u001b[38;5;241m100\u001b[39m \u001b[38;5;241m==\u001b[39m \u001b[38;5;241m0\u001b[39m:\n\u001b[1;32m     23\u001b[0m     \u001b[38;5;28mprint\u001b[39m(\u001b[38;5;124mf\u001b[39m\u001b[38;5;124m'\u001b[39m\u001b[38;5;124mEpoch [\u001b[39m\u001b[38;5;132;01m{\u001b[39;00mepoch\u001b[38;5;241m+\u001b[39m\u001b[38;5;241m1\u001b[39m\u001b[38;5;132;01m}\u001b[39;00m\u001b[38;5;124m/\u001b[39m\u001b[38;5;132;01m{\u001b[39;00mepochs\u001b[38;5;132;01m}\u001b[39;00m\u001b[38;5;124m], Loss: \u001b[39m\u001b[38;5;132;01m{\u001b[39;00mloss\u001b[38;5;241m.\u001b[39mitem()\u001b[38;5;132;01m:\u001b[39;00m\u001b[38;5;124m.4f\u001b[39m\u001b[38;5;132;01m}\u001b[39;00m\u001b[38;5;124m'\u001b[39m)\n",
      "File \u001b[0;32m~/.local/lib/python3.10/site-packages/torch/optim/optimizer.py:493\u001b[0m, in \u001b[0;36mOptimizer.profile_hook_step.<locals>.wrapper\u001b[0;34m(*args, **kwargs)\u001b[0m\n\u001b[1;32m    488\u001b[0m         \u001b[38;5;28;01melse\u001b[39;00m:\n\u001b[1;32m    489\u001b[0m             \u001b[38;5;28;01mraise\u001b[39;00m \u001b[38;5;167;01mRuntimeError\u001b[39;00m(\n\u001b[1;32m    490\u001b[0m                 \u001b[38;5;124mf\u001b[39m\u001b[38;5;124m\"\u001b[39m\u001b[38;5;132;01m{\u001b[39;00mfunc\u001b[38;5;132;01m}\u001b[39;00m\u001b[38;5;124m must return None or a tuple of (new_args, new_kwargs), but got \u001b[39m\u001b[38;5;132;01m{\u001b[39;00mresult\u001b[38;5;132;01m}\u001b[39;00m\u001b[38;5;124m.\u001b[39m\u001b[38;5;124m\"\u001b[39m\n\u001b[1;32m    491\u001b[0m             )\n\u001b[0;32m--> 493\u001b[0m out \u001b[38;5;241m=\u001b[39m \u001b[43mfunc\u001b[49m\u001b[43m(\u001b[49m\u001b[38;5;241;43m*\u001b[39;49m\u001b[43margs\u001b[49m\u001b[43m,\u001b[49m\u001b[43m \u001b[49m\u001b[38;5;241;43m*\u001b[39;49m\u001b[38;5;241;43m*\u001b[39;49m\u001b[43mkwargs\u001b[49m\u001b[43m)\u001b[49m\n\u001b[1;32m    494\u001b[0m \u001b[38;5;28mself\u001b[39m\u001b[38;5;241m.\u001b[39m_optimizer_step_code()\n\u001b[1;32m    496\u001b[0m \u001b[38;5;66;03m# call optimizer step post hooks\u001b[39;00m\n",
      "File \u001b[0;32m~/.local/lib/python3.10/site-packages/torch/optim/optimizer.py:91\u001b[0m, in \u001b[0;36m_use_grad_for_differentiable.<locals>._use_grad\u001b[0;34m(self, *args, **kwargs)\u001b[0m\n\u001b[1;32m     89\u001b[0m     torch\u001b[38;5;241m.\u001b[39mset_grad_enabled(\u001b[38;5;28mself\u001b[39m\u001b[38;5;241m.\u001b[39mdefaults[\u001b[38;5;124m\"\u001b[39m\u001b[38;5;124mdifferentiable\u001b[39m\u001b[38;5;124m\"\u001b[39m])\n\u001b[1;32m     90\u001b[0m     torch\u001b[38;5;241m.\u001b[39m_dynamo\u001b[38;5;241m.\u001b[39mgraph_break()\n\u001b[0;32m---> 91\u001b[0m     ret \u001b[38;5;241m=\u001b[39m \u001b[43mfunc\u001b[49m\u001b[43m(\u001b[49m\u001b[38;5;28;43mself\u001b[39;49m\u001b[43m,\u001b[49m\u001b[43m \u001b[49m\u001b[38;5;241;43m*\u001b[39;49m\u001b[43margs\u001b[49m\u001b[43m,\u001b[49m\u001b[43m \u001b[49m\u001b[38;5;241;43m*\u001b[39;49m\u001b[38;5;241;43m*\u001b[39;49m\u001b[43mkwargs\u001b[49m\u001b[43m)\u001b[49m\n\u001b[1;32m     92\u001b[0m \u001b[38;5;28;01mfinally\u001b[39;00m:\n\u001b[1;32m     93\u001b[0m     torch\u001b[38;5;241m.\u001b[39m_dynamo\u001b[38;5;241m.\u001b[39mgraph_break()\n",
      "File \u001b[0;32m~/.local/lib/python3.10/site-packages/torch/optim/adam.py:218\u001b[0m, in \u001b[0;36mAdam.step\u001b[0;34m(self, closure)\u001b[0m\n\u001b[1;32m    210\u001b[0m \u001b[38;5;129m@_use_grad_for_differentiable\u001b[39m\n\u001b[1;32m    211\u001b[0m \u001b[38;5;28;01mdef\u001b[39;00m\u001b[38;5;250m \u001b[39m\u001b[38;5;21mstep\u001b[39m(\u001b[38;5;28mself\u001b[39m, closure\u001b[38;5;241m=\u001b[39m\u001b[38;5;28;01mNone\u001b[39;00m):\n\u001b[1;32m    212\u001b[0m \u001b[38;5;250m    \u001b[39m\u001b[38;5;124;03m\"\"\"Perform a single optimization step.\u001b[39;00m\n\u001b[1;32m    213\u001b[0m \n\u001b[1;32m    214\u001b[0m \u001b[38;5;124;03m    Args:\u001b[39;00m\n\u001b[1;32m    215\u001b[0m \u001b[38;5;124;03m        closure (Callable, optional): A closure that reevaluates the model\u001b[39;00m\n\u001b[1;32m    216\u001b[0m \u001b[38;5;124;03m            and returns the loss.\u001b[39;00m\n\u001b[1;32m    217\u001b[0m \u001b[38;5;124;03m    \"\"\"\u001b[39;00m\n\u001b[0;32m--> 218\u001b[0m     \u001b[38;5;28;43mself\u001b[39;49m\u001b[38;5;241;43m.\u001b[39;49m\u001b[43m_cuda_graph_capture_health_check\u001b[49m\u001b[43m(\u001b[49m\u001b[43m)\u001b[49m\n\u001b[1;32m    220\u001b[0m     loss \u001b[38;5;241m=\u001b[39m \u001b[38;5;28;01mNone\u001b[39;00m\n\u001b[1;32m    221\u001b[0m     \u001b[38;5;28;01mif\u001b[39;00m closure \u001b[38;5;129;01mis\u001b[39;00m \u001b[38;5;129;01mnot\u001b[39;00m \u001b[38;5;28;01mNone\u001b[39;00m:\n",
      "File \u001b[0;32m~/.local/lib/python3.10/site-packages/torch/optim/optimizer.py:436\u001b[0m, in \u001b[0;36mOptimizer._cuda_graph_capture_health_check\u001b[0;34m(self)\u001b[0m\n\u001b[1;32m    420\u001b[0m \u001b[38;5;28;01mdef\u001b[39;00m\u001b[38;5;250m \u001b[39m\u001b[38;5;21m_cuda_graph_capture_health_check\u001b[39m(\u001b[38;5;28mself\u001b[39m) \u001b[38;5;241m-\u001b[39m\u001b[38;5;241m>\u001b[39m \u001b[38;5;28;01mNone\u001b[39;00m:\n\u001b[1;32m    421\u001b[0m     \u001b[38;5;66;03m# Note [torch.compile x capturable]\u001b[39;00m\n\u001b[1;32m    422\u001b[0m     \u001b[38;5;66;03m# If we are compiling, we try to take the capturable path automatically by\u001b[39;00m\n\u001b[0;32m   (...)\u001b[0m\n\u001b[1;32m    429\u001b[0m     \u001b[38;5;66;03m# Thus, when compiling, inductor will determine if cudagraphs\u001b[39;00m\n\u001b[1;32m    430\u001b[0m     \u001b[38;5;66;03m# can be enabled based on whether there is input mutation or CPU tensors.\u001b[39;00m\n\u001b[1;32m    431\u001b[0m     \u001b[38;5;28;01mif\u001b[39;00m (\n\u001b[1;32m    432\u001b[0m         \u001b[38;5;129;01mnot\u001b[39;00m torch\u001b[38;5;241m.\u001b[39mcompiler\u001b[38;5;241m.\u001b[39mis_compiling()\n\u001b[1;32m    433\u001b[0m         \u001b[38;5;129;01mand\u001b[39;00m torch\u001b[38;5;241m.\u001b[39mbackends\u001b[38;5;241m.\u001b[39mcuda\u001b[38;5;241m.\u001b[39mis_built()\n\u001b[1;32m    434\u001b[0m         \u001b[38;5;129;01mand\u001b[39;00m torch\u001b[38;5;241m.\u001b[39mcuda\u001b[38;5;241m.\u001b[39mis_available()\n\u001b[1;32m    435\u001b[0m     ):\n\u001b[0;32m--> 436\u001b[0m         capturing \u001b[38;5;241m=\u001b[39m \u001b[43mtorch\u001b[49m\u001b[38;5;241;43m.\u001b[39;49m\u001b[43mcuda\u001b[49m\u001b[38;5;241;43m.\u001b[39;49m\u001b[43mis_current_stream_capturing\u001b[49m\u001b[43m(\u001b[49m\u001b[43m)\u001b[49m\n\u001b[1;32m    438\u001b[0m         \u001b[38;5;28;01mif\u001b[39;00m capturing \u001b[38;5;129;01mand\u001b[39;00m \u001b[38;5;129;01mnot\u001b[39;00m \u001b[38;5;28mall\u001b[39m(\n\u001b[1;32m    439\u001b[0m             group[\u001b[38;5;124m\"\u001b[39m\u001b[38;5;124mcapturable\u001b[39m\u001b[38;5;124m\"\u001b[39m] \u001b[38;5;28;01mfor\u001b[39;00m group \u001b[38;5;129;01min\u001b[39;00m \u001b[38;5;28mself\u001b[39m\u001b[38;5;241m.\u001b[39mparam_groups\n\u001b[1;32m    440\u001b[0m         ):\n\u001b[1;32m    441\u001b[0m             \u001b[38;5;28;01mraise\u001b[39;00m \u001b[38;5;167;01mRuntimeError\u001b[39;00m(\n\u001b[1;32m    442\u001b[0m                 \u001b[38;5;124m\"\u001b[39m\u001b[38;5;124mAttempting CUDA graph capture of step() for an instance of \u001b[39m\u001b[38;5;124m\"\u001b[39m\n\u001b[1;32m    443\u001b[0m                 \u001b[38;5;241m+\u001b[39m \u001b[38;5;28mself\u001b[39m\u001b[38;5;241m.\u001b[39m\u001b[38;5;18m__class__\u001b[39m\u001b[38;5;241m.\u001b[39m\u001b[38;5;18m__name__\u001b[39m\n\u001b[1;32m    444\u001b[0m                 \u001b[38;5;241m+\u001b[39m \u001b[38;5;124m\"\u001b[39m\u001b[38;5;124m but param_groups\u001b[39m\u001b[38;5;124m'\u001b[39m\u001b[38;5;124m capturable is False.\u001b[39m\u001b[38;5;124m\"\u001b[39m\n\u001b[1;32m    445\u001b[0m             )\n",
      "File \u001b[0;32m~/.local/lib/python3.10/site-packages/torch/cuda/graphs.py:30\u001b[0m, in \u001b[0;36mis_current_stream_capturing\u001b[0;34m()\u001b[0m\n\u001b[1;32m     25\u001b[0m \u001b[38;5;28;01mdef\u001b[39;00m\u001b[38;5;250m \u001b[39m\u001b[38;5;21mis_current_stream_capturing\u001b[39m():\n\u001b[1;32m     26\u001b[0m \u001b[38;5;250m    \u001b[39m\u001b[38;5;124mr\u001b[39m\u001b[38;5;124;03m\"\"\"Return True if CUDA graph capture is underway on the current CUDA stream, False otherwise.\u001b[39;00m\n\u001b[1;32m     27\u001b[0m \n\u001b[1;32m     28\u001b[0m \u001b[38;5;124;03m    If a CUDA context does not exist on the current device, returns False without initializing the context.\u001b[39;00m\n\u001b[1;32m     29\u001b[0m \u001b[38;5;124;03m    \"\"\"\u001b[39;00m\n\u001b[0;32m---> 30\u001b[0m     \u001b[38;5;28;01mreturn\u001b[39;00m \u001b[43m_cuda_isCurrentStreamCapturing\u001b[49m\u001b[43m(\u001b[49m\u001b[43m)\u001b[49m\n",
      "\u001b[0;31mKeyboardInterrupt\u001b[0m: "
     ]
    }
   ],
   "source": [
    "epochs=100\n",
    "lr=0.01\n",
    "criterion = nn.MSELoss()\n",
    "optimizer = optim.Adam(model.parameters(), lr=lr)\n",
    "\n",
    "x_train = x_train.to(0)\n",
    "y_train = y_train.to(1)\n",
    "losses = []\n",
    "\n",
    "for epoch in range(epochs):\n",
    "    optimizer.zero_grad()\n",
    "    memory_start = torch.cuda.memory_allocated()\n",
    "    outputs = model(x_train)\n",
    "    if epoch==0:#<=1\n",
    "        count_gpu_memories(\"Forward\")\n",
    "    loss = criterion(outputs, y_train)\n",
    "    loss.backward()\n",
    "    if epoch==0:#<=1\n",
    "        count_gpu_memories(\"Backward\")\n",
    "    optimizer.step()\n",
    "    \n",
    "    if (epoch + 1) % 100 == 0:\n",
    "        print(f'Epoch [{epoch+1}/{epochs}], Loss: {loss.item():.4f}')\n",
    "    losses.append(loss.item())"
   ]
  },
  {
   "cell_type": "code",
   "execution_count": null,
   "id": "a728b1c9-bcab-4233-b48b-ed641ea72acc",
   "metadata": {},
   "outputs": [],
   "source": [
    "# 학습된 모델의 예측 예시\n",
    "test_x = torch.FloatTensor([-3, -2, -1, 0, 1, 2, 3]).view(-1, 1).cuda()\n",
    "exact_y = 2 * test_x**2 + 3 * test_x + 1\n",
    "with torch.no_grad():\n",
    "    test_y = model(test_x)\n",
    "    plt.plot(test_x.cpu(), test_y.cpu(), label='pred')\n",
    "    plt.plot(test_x.cpu(), exact_y.cpu(), label='exact')\n",
    "    plt.legend()\n",
    "    plt.show()\n",
    "    print(\"\\n테스트 예측 결과:\")\n",
    "    for x, y, y_answer in zip(test_x, test_y, exact_y):\n",
    "        print(f\"x = {x.item():.1f}, 예측값 = {y.item():.2f}, 실제값 = {y_answer.item():.2f}\")"
   ]
  },
  {
   "cell_type": "code",
   "execution_count": null,
   "id": "e1b710b4-4e29-4fd7-a8e0-fd4427a82a27",
   "metadata": {},
   "outputs": [],
   "source": []
  }
 ],
 "metadata": {
  "kernelspec": {
   "display_name": "Python 3 (ipykernel)",
   "language": "python",
   "name": "python3"
  },
  "language_info": {
   "codemirror_mode": {
    "name": "ipython",
    "version": 3
   },
   "file_extension": ".py",
   "mimetype": "text/x-python",
   "name": "python",
   "nbconvert_exporter": "python",
   "pygments_lexer": "ipython3",
   "version": "3.11.10"
  }
 },
 "nbformat": 4,
 "nbformat_minor": 5
}
