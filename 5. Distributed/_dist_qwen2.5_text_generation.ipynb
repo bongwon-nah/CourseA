{
 "cells": [
  {
   "cell_type": "code",
   "execution_count": 1,
   "id": "25ee1bd5-e9f7-477d-a13f-85c14cbadf84",
   "metadata": {},
   "outputs": [],
   "source": [
    "# import os\n",
    "# os.environ[\"CUDA_VISIBLE_DEVICES\"]='0'"
   ]
  },
  {
   "cell_type": "code",
   "execution_count": 2,
   "id": "9c813c9e-9270-4649-937d-9a18a3dbbe4f",
   "metadata": {},
   "outputs": [],
   "source": [
    "def count_gpu_memories(usage=\"\"):\n",
    "    num_gpus = torch.cuda.device_count()\n",
    "    gpu_memory_info = []\n",
    "    \n",
    "    for i in range(num_gpus):\n",
    "        allocated = torch.cuda.memory_allocated(i)\n",
    "        gpu_memory_info.append(\n",
    "            (i, allocated / 1024**2)  # MB 단위로 변환\n",
    "        )\n",
    "    \n",
    "    print(f\"{usage} GPU 메모리 사용량 (단위: MB):\")\n",
    "    for gpu_id, allocated_mb in gpu_memory_info:\n",
    "        print(f\"GPU {gpu_id} - Allocated: {allocated_mb:.4f} MB\")"
   ]
  },
  {
   "cell_type": "code",
   "execution_count": 3,
   "id": "6481f1e7-d046-49e4-9f45-38569a4f07ad",
   "metadata": {},
   "outputs": [
    {
     "name": "stderr",
     "output_type": "stream",
     "text": [
      "Sliding Window Attention is enabled but not implemented for `sdpa`; unexpected results may be encountered.\n"
     ]
    },
    {
     "data": {
      "application/vnd.jupyter.widget-view+json": {
       "model_id": "eec5059247be48e5b8e23641bfea7e64",
       "version_major": 2,
       "version_minor": 0
      },
      "text/plain": [
       "Loading checkpoint shards:   0%|          | 0/4 [00:00<?, ?it/s]"
      ]
     },
     "metadata": {},
     "output_type": "display_data"
    },
    {
     "name": "stderr",
     "output_type": "stream",
     "text": [
      "Some parameters are on the meta device because they were offloaded to the cpu.\n"
     ]
    },
    {
     "name": "stdout",
     "output_type": "stream",
     "text": [
      "Model Load GPU 메모리 사용량 (단위: MB):\n",
      "GPU 0 - Allocated: 13042.6069 MB\n"
     ]
    }
   ],
   "source": [
    "from transformers import AutoTokenizer, AutoModelForCausalLM\n",
    "import torch\n",
    "\n",
    "prompt = \"안녕하세요! Qwen2.5 모델의 구조를 분석해보겠습니다.\"\n",
    "\n",
    "# Qwen2.5 모델과 토크나이저 로드\n",
    "model_name = \"../Qwen2.5-1.5B-Instruct\"\n",
    "tokenizer = AutoTokenizer.from_pretrained(model_name)\n",
    "model = AutoModelForCausalLM.from_pretrained(model_name, device_map='auto', torch_dtype=torch.bfloat16)\n",
    "\n",
    "count_gpu_memories(\"Model Load\")"
   ]
  },
  {
   "cell_type": "code",
   "execution_count": 4,
   "id": "9e3c0e81-8dd1-461a-b98b-84f4a2da58d8",
   "metadata": {},
   "outputs": [
    {
     "name": "stderr",
     "output_type": "stream",
     "text": [
      "The attention mask is not set and cannot be inferred from input because pad token is same as eos token. As a consequence, you may observe unexpected behavior. Please pass your input's `attention_mask` to obtain reliable results.\n"
     ]
    },
    {
     "name": "stdout",
     "output_type": "stream",
     "text": [
      "Generate sample used  28.06 seconds\n"
     ]
    }
   ],
   "source": [
    "# 입력 텍스트 토큰화\n",
    "device = 'cuda:0'\n",
    "inputs = tokenizer(prompt, return_tensors=\"pt\")\n",
    "inputs = {k: v.to(device) for k, v in inputs.items()}\n",
    "max_new_tokens = 64\n",
    "\n",
    "# 텍스트 생성\n",
    "import time\n",
    "st = time.time()\n",
    "with torch.no_grad():\n",
    "    outputs = model.generate(\n",
    "        inputs[\"input_ids\"],\n",
    "        max_new_tokens=max_new_tokens,\n",
    "        temperature=0.5,\n",
    "        top_p=0.3,\n",
    "        do_sample=True\n",
    "    )\n",
    "print(f\"Generate sample used {time.time()-st: .2f} seconds\")\n",
    "# 생성된 텍스트 디코딩\n",
    "generated_text = tokenizer.decode(outputs[0], skip_special_tokens=True)\n"
   ]
  },
  {
   "cell_type": "code",
   "execution_count": 5,
   "id": "f23b9afe-d2bc-44ba-93f3-bbd6e9fcfc91",
   "metadata": {},
   "outputs": [
    {
     "name": "stdout",
     "output_type": "stream",
     "text": [
      "Inference GPU 메모리 사용량 (단위: MB):\n",
      "GPU 0 - Allocated: 13050.7339 MB\n",
      "==========================================================\n",
      "안녕하세요! Qwen2.5 모델의 구조를 분석해보겠습니다. Qwen2.5는 130억 개의 파라미터를 가지고 있으며, 이는 대규모 언어 모델입니다. 또한, Qwen2.5는 Transformer 아키텍처를 사용하여 설계되었습니다.\n",
      "\n",
      "Transformer 아키텍처는 주로 인코\n"
     ]
    }
   ],
   "source": [
    "count_gpu_memories(\"Inference\")\n",
    "print(\"==========================================================\")\n",
    "print(f\"{generated_text}\")"
   ]
  },
  {
   "cell_type": "code",
   "execution_count": null,
   "id": "45bb018b-8407-4238-b266-7edc0f031915",
   "metadata": {},
   "outputs": [],
   "source": []
  }
 ],
 "metadata": {
  "kernelspec": {
   "display_name": "Python 3 (ipykernel)",
   "language": "python",
   "name": "python3"
  },
  "language_info": {
   "codemirror_mode": {
    "name": "ipython",
    "version": 3
   },
   "file_extension": ".py",
   "mimetype": "text/x-python",
   "name": "python",
   "nbconvert_exporter": "python",
   "pygments_lexer": "ipython3",
   "version": "3.11.10"
  }
 },
 "nbformat": 4,
 "nbformat_minor": 5
}
