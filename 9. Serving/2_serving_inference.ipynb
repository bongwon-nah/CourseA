{
 "cells": [
  {
   "cell_type": "markdown",
   "id": "a5b2bcc1-c17e-4e86-b205-c4271f052a6f",
   "metadata": {},
   "source": [
    "# vLLM 서비스 endpoint에 inference 진행"
   ]
  },
  {
   "cell_type": "code",
   "execution_count": null,
   "id": "2b962307-10bf-4354-ba20-a4810395c623",
   "metadata": {},
   "outputs": [],
   "source": [
    "import json\n",
    "import requests\n",
    "\n",
    "my_outer_ip = \"104.199.178.22\"\n",
    "\n",
    "def apply_body(prompt, system_prompt=\"You are an AI Assistant called Gauss.\"):\n",
    "    body = {\n",
    "        \"model\": \"models/Qwen2.5-1.5B-Instruct/\",\n",
    "        \"messages\": [\n",
    "            {\n",
    "                \"content\": system_prompt, \n",
    "                \"role\": \"system\"\n",
    "            }, \n",
    "            {\n",
    "                \"content\": prompt,\n",
    "                \"role\": \"user\"\n",
    "            }\n",
    "        ],\n",
    "        \"max_tokens\": 512,\n",
    "        \"seed\": 12345, \n",
    "    }\n",
    "    return body"
   ]
  },
  {
   "cell_type": "markdown",
   "id": "3a27e7b4-5b97-4ed1-af7a-17d95eac8934",
   "metadata": {},
   "source": [
    "### vLLM 서버 정상작동 확인"
   ]
  },
  {
   "cell_type": "code",
   "execution_count": null,
   "id": "90b16ee1-29b3-4e50-b5fb-9dd7440506b4",
   "metadata": {},
   "outputs": [],
   "source": [
    "response = requests.get(f\"http://{my_outer_ip}:8006/health\")\n",
    "response"
   ]
  },
  {
   "cell_type": "markdown",
   "id": "61f68a6c-87cf-4d90-af3d-e4bb22e67f1c",
   "metadata": {},
   "source": [
    "### vLLM 서버에 추론요청 보내기"
   ]
  },
  {
   "cell_type": "code",
   "execution_count": 19,
   "id": "e950e757-b6f9-4fc8-9dca-b633e355359b",
   "metadata": {},
   "outputs": [],
   "source": [
    "prompt = \"Hello, what is your name?\"\n",
    "\n",
    "system_prompt = \"You are an AI Assistant called Gauss.\"\n",
    "\n",
    "body = apply_body(prompt, system_prompt)\n",
    "headers = {\"Content-Type\": \"application/json\"}\n",
    "endpoint = f\"http://{my_outer_ip}:8006/v1/chat/completions\"\n",
    "\n",
    "\n",
    "response = requests.post(endpoint, data=json.dumps(body), headers=headers)"
   ]
  },
  {
   "cell_type": "markdown",
   "id": "5113fc3a-706e-4f33-9350-7264f5bfbc31",
   "metadata": {},
   "source": [
    "### 모델이 받은 원문 확인"
   ]
  },
  {
   "cell_type": "code",
   "execution_count": 15,
   "id": "acf96eef-0295-41a1-b3f4-8fe467242208",
   "metadata": {},
   "outputs": [
    {
     "name": "stdout",
     "output_type": "stream",
     "text": [
      "<|im_start|>system\n",
      "You are an AI Assistant called Gauss.<|im_end|>\n",
      "<|im_start|>user\n",
      "Hello, what is your name?<|im_end|>\n",
      "\n"
     ]
    }
   ],
   "source": [
    "from transformers import AutoTokenizer\n",
    "model_path = \"./models/Qwen2.5-1.5B-Instruct/\"\n",
    "tokenizer = AutoTokenizer.from_pretrained(model_path)\n",
    "print(tokenizer.apply_chat_template(body['messages'], tokenize=False))"
   ]
  },
  {
   "cell_type": "code",
   "execution_count": 20,
   "id": "8500a00b-e5b2-49f6-a754-f19235033847",
   "metadata": {},
   "outputs": [
    {
     "name": "stdout",
     "output_type": "stream",
     "text": [
      "Hello! I am called Gauss. It's nice to meet you. I am an AI model created to perform mathematical calculations and complex algorithms. Am I helping you with anything?\n"
     ]
    }
   ],
   "source": [
    "return_body = json.loads(response.content.decode())\n",
    "print(return_body[\"choices\"][0]['message']['content'])"
   ]
  },
  {
   "cell_type": "markdown",
   "id": "3a10cff9-a524-4e30-bd4c-82095553b40d",
   "metadata": {},
   "source": [
    "# 부하 테스트 툴 locust 사용한 성능 테스트"
   ]
  },
  {
   "cell_type": "code",
   "execution_count": null,
   "id": "cc67ccf2-f8e4-412c-a709-d40219862f18",
   "metadata": {},
   "outputs": [],
   "source": [
    "!pip install locust"
   ]
  },
  {
   "cell_type": "markdown",
   "id": "957d07dd-8cd9-4f95-bbac-fff4d2576032",
   "metadata": {},
   "source": [
    "아래 명령어 실행:\n",
    "> locust -f locust_default.py --host http://localhost:8006 \\\n",
    "> locust -f locust_add_check.py --host http://localhost:8006"
   ]
  },
  {
   "cell_type": "code",
   "execution_count": null,
   "id": "627c71cc-1e0e-465f-bbaf-cc672f09bae5",
   "metadata": {},
   "outputs": [],
   "source": []
  }
 ],
 "metadata": {
  "kernelspec": {
   "display_name": "Python 3 (ipykernel)",
   "language": "python",
   "name": "python3"
  },
  "language_info": {
   "codemirror_mode": {
    "name": "ipython",
    "version": 3
   },
   "file_extension": ".py",
   "mimetype": "text/x-python",
   "name": "python",
   "nbconvert_exporter": "python",
   "pygments_lexer": "ipython3",
   "version": "3.11.10"
  }
 },
 "nbformat": 4,
 "nbformat_minor": 5
}
